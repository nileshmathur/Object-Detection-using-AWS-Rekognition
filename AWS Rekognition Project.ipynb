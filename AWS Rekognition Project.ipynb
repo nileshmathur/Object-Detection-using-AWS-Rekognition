{
 "cells": [
  {
   "cell_type": "code",
   "execution_count": 1,
   "metadata": {},
   "outputs": [],
   "source": [
    "import cv2"
   ]
  },
  {
   "cell_type": "code",
   "execution_count": 2,
   "metadata": {},
   "outputs": [],
   "source": [
    "cap=cv2.VideoCapture(0)\n",
    "#This will start the camera\n",
    "#Use 0 for internal camera and 1 for external camera"
   ]
  },
  {
   "cell_type": "code",
   "execution_count": 3,
   "metadata": {},
   "outputs": [
    {
     "data": {
      "text/plain": [
       "<VideoCapture 000000266936FEF0>"
      ]
     },
     "execution_count": 3,
     "metadata": {},
     "output_type": "execute_result"
    }
   ],
   "source": [
    "cap"
   ]
  },
  {
   "cell_type": "code",
   "execution_count": 4,
   "metadata": {},
   "outputs": [],
   "source": [
    "ret,photo=cap.read()    #Clicks picture"
   ]
  },
  {
   "cell_type": "code",
   "execution_count": 5,
   "metadata": {},
   "outputs": [
    {
     "data": {
      "text/plain": [
       "True"
      ]
     },
     "execution_count": 5,
     "metadata": {},
     "output_type": "execute_result"
    }
   ],
   "source": [
    "ret"
   ]
  },
  {
   "cell_type": "code",
   "execution_count": 6,
   "metadata": {},
   "outputs": [
    {
     "data": {
      "text/plain": [
       "array([[[182, 145,  59],\n",
       "        [183, 146,  60],\n",
       "        [185, 147,  55],\n",
       "        ...,\n",
       "        [ 84,  58,  12],\n",
       "        [ 80,  61,  13],\n",
       "        [ 82,  64,  15]],\n",
       "\n",
       "       [[176, 141,  58],\n",
       "        [181, 145,  62],\n",
       "        [186, 147,  60],\n",
       "        ...,\n",
       "        [ 85,  59,  14],\n",
       "        [ 82,  62,  11],\n",
       "        [ 82,  62,  11]],\n",
       "\n",
       "       [[180, 143,  65],\n",
       "        [181, 144,  66],\n",
       "        [184, 146,  63],\n",
       "        ...,\n",
       "        [ 87,  61,  16],\n",
       "        [ 80,  62,   9],\n",
       "        [ 79,  61,   8]],\n",
       "\n",
       "       ...,\n",
       "\n",
       "       [[120,  99,  69],\n",
       "        [135, 114,  84],\n",
       "        [134, 113,  83],\n",
       "        ...,\n",
       "        [ 75,  65,  41],\n",
       "        [ 77,  65,  41],\n",
       "        [ 75,  62,  38]],\n",
       "\n",
       "       [[122, 103,  76],\n",
       "        [133, 114,  86],\n",
       "        [135, 113,  78],\n",
       "        ...,\n",
       "        [ 73,  65,  43],\n",
       "        [ 76,  63,  41],\n",
       "        [ 75,  62,  40]],\n",
       "\n",
       "       [[121, 102,  74],\n",
       "        [126, 107,  79],\n",
       "        [130, 110,  80],\n",
       "        ...,\n",
       "        [ 73,  63,  48],\n",
       "        [ 74,  63,  41],\n",
       "        [ 72,  61,  39]]], dtype=uint8)"
      ]
     },
     "execution_count": 6,
     "metadata": {},
     "output_type": "execute_result"
    }
   ],
   "source": [
    "photo"
   ]
  },
  {
   "cell_type": "code",
   "execution_count": 7,
   "metadata": {},
   "outputs": [
    {
     "data": {
      "text/plain": [
       "True"
      ]
     },
     "execution_count": 7,
     "metadata": {},
     "output_type": "execute_result"
    }
   ],
   "source": [
    "myphoto=\"picture.jpg\"\n",
    "cv2.imwrite(myphoto,photo)\n",
    "#Save the picture in current directory with name \"picture.jpg\""
   ]
  },
  {
   "cell_type": "code",
   "execution_count": 8,
   "metadata": {},
   "outputs": [],
   "source": [
    "cap.release()\n",
    "#Disconnets/Switches off the camera"
   ]
  },
  {
   "cell_type": "code",
   "execution_count": 9,
   "metadata": {},
   "outputs": [],
   "source": [
    "region=\"ap-south-1\"\n",
    "bucket=\"nilesh-ai-aws-workshop-bucket\""
   ]
  },
  {
   "cell_type": "code",
   "execution_count": 10,
   "metadata": {},
   "outputs": [],
   "source": [
    "import boto3\n",
    "#For connecting with AWS"
   ]
  },
  {
   "cell_type": "code",
   "execution_count": 11,
   "metadata": {},
   "outputs": [],
   "source": [
    "s3=boto3.resource(\"s3\")     \n",
    "#Using S3 to store the picture "
   ]
  },
  {
   "cell_type": "code",
   "execution_count": 12,
   "metadata": {},
   "outputs": [],
   "source": [
    "upimage=\"file.jpg\"\n",
    "s3.Bucket(bucket).upload_file(myphoto,\"file.jpg\")\n",
    "#Uploads file on S3 Bucket"
   ]
  },
  {
   "cell_type": "code",
   "execution_count": 15,
   "metadata": {},
   "outputs": [],
   "source": [
    "rek=boto3.client(\"rekognition\",region)\n",
    "#We will not use boto3.resource as it does not supports rekognition"
   ]
  },
  {
   "cell_type": "code",
   "execution_count": 17,
   "metadata": {},
   "outputs": [
    {
     "data": {
      "text/plain": [
       "<botocore.client.Rekognition at 0x266ddcc648>"
      ]
     },
     "execution_count": 17,
     "metadata": {},
     "output_type": "execute_result"
    }
   ],
   "source": [
    "rek"
   ]
  },
  {
   "cell_type": "code",
   "execution_count": 37,
   "metadata": {},
   "outputs": [],
   "source": [
    "response=rek.detect_labels(\n",
    "    Image={\n",
    "        'S3Object':{\n",
    "            'Bucket': bucket,\n",
    "            'Name': upimage,\n",
    "        }\n",
    "        \n",
    "    },\n",
    "    MaxLabels= 10,\n",
    "    MinConfidence= 10\n",
    ")"
   ]
  },
  {
   "cell_type": "code",
   "execution_count": 38,
   "metadata": {},
   "outputs": [
    {
     "data": {
      "text/plain": [
       "{'Labels': [{'Name': 'Furniture',\n",
       "   'Confidence': 97.9500961303711,\n",
       "   'Instances': [],\n",
       "   'Parents': []},\n",
       "  {'Name': 'Face',\n",
       "   'Confidence': 97.53401947021484,\n",
       "   'Instances': [],\n",
       "   'Parents': [{'Name': 'Person'}]},\n",
       "  {'Name': 'Person',\n",
       "   'Confidence': 97.53401947021484,\n",
       "   'Instances': [{'BoundingBox': {'Width': 0.7444756627082825,\n",
       "      'Height': 0.7406613826751709,\n",
       "      'Left': 0.1801254004240036,\n",
       "      'Top': 0.24385830760002136},\n",
       "     'Confidence': 95.10676574707031}],\n",
       "   'Parents': []},\n",
       "  {'Name': 'Head',\n",
       "   'Confidence': 91.56599426269531,\n",
       "   'Instances': [],\n",
       "   'Parents': []},\n",
       "  {'Name': 'Water',\n",
       "   'Confidence': 84.37612915039062,\n",
       "   'Instances': [],\n",
       "   'Parents': []},\n",
       "  {'Name': 'Portrait',\n",
       "   'Confidence': 80.8726577758789,\n",
       "   'Instances': [],\n",
       "   'Parents': [{'Name': 'Face'}, {'Name': 'Photography'}, {'Name': 'Person'}]},\n",
       "  {'Name': 'Photography',\n",
       "   'Confidence': 80.8726577758789,\n",
       "   'Instances': [],\n",
       "   'Parents': [{'Name': 'Person'}]},\n",
       "  {'Name': 'Outdoors',\n",
       "   'Confidence': 77.20423126220703,\n",
       "   'Instances': [],\n",
       "   'Parents': []},\n",
       "  {'Name': 'Nature',\n",
       "   'Confidence': 75.32518005371094,\n",
       "   'Instances': [],\n",
       "   'Parents': []},\n",
       "  {'Name': 'Selfie',\n",
       "   'Confidence': 68.20752716064453,\n",
       "   'Instances': [],\n",
       "   'Parents': [{'Name': 'Portrait'},\n",
       "    {'Name': 'Face'},\n",
       "    {'Name': 'Photography'},\n",
       "    {'Name': 'Person'}]}],\n",
       " 'LabelModelVersion': '2.0',\n",
       " 'ResponseMetadata': {'RequestId': 'fc9c112d-9075-420d-a074-b963cdcdfec6',\n",
       "  'HTTPStatusCode': 200,\n",
       "  'HTTPHeaders': {'content-type': 'application/x-amz-json-1.1',\n",
       "   'date': 'Sun, 04 Apr 2021 06:29:34 GMT',\n",
       "   'x-amzn-requestid': 'fc9c112d-9075-420d-a074-b963cdcdfec6',\n",
       "   'content-length': '1133',\n",
       "   'connection': 'keep-alive'},\n",
       "  'RetryAttempts': 0}}"
      ]
     },
     "execution_count": 38,
     "metadata": {},
     "output_type": "execute_result"
    }
   ],
   "source": [
    "response"
   ]
  },
  {
   "cell_type": "code",
   "execution_count": 39,
   "metadata": {},
   "outputs": [
    {
     "name": "stdout",
     "output_type": "stream",
     "text": [
      "Furniture\n",
      "Face\n",
      "Person\n"
     ]
    }
   ],
   "source": [
    "for i in range(len(response)):\n",
    "    print(response[\"Labels\"][i]['Name'])"
   ]
  },
  {
   "cell_type": "code",
   "execution_count": 40,
   "metadata": {},
   "outputs": [],
   "source": [
    "resfaces=rek.detect_faces(\n",
    "    Image={\n",
    "        'S3Object':{\n",
    "            'Bucket': bucket,\n",
    "            'Name': upimage,\n",
    "        }\n",
    "    },\n",
    "    Attributes=[\"ALL\"]\n",
    ")"
   ]
  },
  {
   "cell_type": "code",
   "execution_count": 41,
   "metadata": {},
   "outputs": [
    {
     "data": {
      "text/plain": [
       "{'FaceDetails': [{'BoundingBox': {'Width': 0.2547360062599182,\n",
       "    'Height': 0.48416000604629517,\n",
       "    'Left': 0.44735845923423767,\n",
       "    'Top': 0.41691991686820984},\n",
       "   'AgeRange': {'Low': 16, 'High': 28},\n",
       "   'Smile': {'Value': False, 'Confidence': 98.84922790527344},\n",
       "   'Eyeglasses': {'Value': False, 'Confidence': 77.3309097290039},\n",
       "   'Sunglasses': {'Value': False, 'Confidence': 87.75151824951172},\n",
       "   'Gender': {'Value': 'Male', 'Confidence': 97.47289276123047},\n",
       "   'Beard': {'Value': True, 'Confidence': 58.48957443237305},\n",
       "   'Mustache': {'Value': False, 'Confidence': 82.34790802001953},\n",
       "   'EyesOpen': {'Value': True, 'Confidence': 99.4754638671875},\n",
       "   'MouthOpen': {'Value': False, 'Confidence': 94.30448150634766},\n",
       "   'Emotions': [{'Type': 'CALM', 'Confidence': 99.5718765258789},\n",
       "    {'Type': 'SAD', 'Confidence': 0.17575469613075256},\n",
       "    {'Type': 'HAPPY', 'Confidence': 0.10456385463476181},\n",
       "    {'Type': 'ANGRY', 'Confidence': 0.06028955057263374},\n",
       "    {'Type': 'CONFUSED', 'Confidence': 0.03313625603914261},\n",
       "    {'Type': 'FEAR', 'Confidence': 0.020178604871034622},\n",
       "    {'Type': 'SURPRISED', 'Confidence': 0.019335947930812836},\n",
       "    {'Type': 'DISGUSTED', 'Confidence': 0.0148515235632658}],\n",
       "   'Landmarks': [{'Type': 'eyeLeft',\n",
       "     'X': 0.501064658164978,\n",
       "     'Y': 0.605868935585022},\n",
       "    {'Type': 'eyeRight', 'X': 0.624686062335968, 'Y': 0.599297285079956},\n",
       "    {'Type': 'mouthLeft', 'X': 0.5162175893783569, 'Y': 0.7806918025016785},\n",
       "    {'Type': 'mouthRight', 'X': 0.6197057962417603, 'Y': 0.7753307223320007},\n",
       "    {'Type': 'nose', 'X': 0.5606277585029602, 'Y': 0.7097896337509155},\n",
       "    {'Type': 'leftEyeBrowLeft',\n",
       "     'X': 0.45545387268066406,\n",
       "     'Y': 0.5633984208106995},\n",
       "    {'Type': 'leftEyeBrowRight',\n",
       "     'X': 0.4884359836578369,\n",
       "     'Y': 0.5475700497627258},\n",
       "    {'Type': 'leftEyeBrowUp',\n",
       "     'X': 0.5235872864723206,\n",
       "     'Y': 0.5572690367698669},\n",
       "    {'Type': 'rightEyeBrowLeft',\n",
       "     'X': 0.5941464900970459,\n",
       "     'Y': 0.5533198714256287},\n",
       "    {'Type': 'rightEyeBrowRight',\n",
       "     'X': 0.6305536031723022,\n",
       "     'Y': 0.5396862030029297},\n",
       "    {'Type': 'rightEyeBrowUp',\n",
       "     'X': 0.6699106097221375,\n",
       "     'Y': 0.5516270995140076},\n",
       "    {'Type': 'leftEyeLeft', 'X': 0.47954097390174866, 'Y': 0.6045808792114258},\n",
       "    {'Type': 'leftEyeRight', 'X': 0.5254846811294556, 'Y': 0.6062232255935669},\n",
       "    {'Type': 'leftEyeUp', 'X': 0.500135064125061, 'Y': 0.5977643728256226},\n",
       "    {'Type': 'leftEyeDown', 'X': 0.5016947984695435, 'Y': 0.613673210144043},\n",
       "    {'Type': 'rightEyeLeft', 'X': 0.6000552177429199, 'Y': 0.6022093296051025},\n",
       "    {'Type': 'rightEyeRight',\n",
       "     'X': 0.6470109224319458,\n",
       "     'Y': 0.5956412553787231},\n",
       "    {'Type': 'rightEyeUp', 'X': 0.6241928339004517, 'Y': 0.5911043286323547},\n",
       "    {'Type': 'rightEyeDown', 'X': 0.6241462230682373, 'Y': 0.6071436405181885},\n",
       "    {'Type': 'noseLeft', 'X': 0.540776252746582, 'Y': 0.7218120098114014},\n",
       "    {'Type': 'noseRight', 'X': 0.5865129828453064, 'Y': 0.7193644046783447},\n",
       "    {'Type': 'mouthUp', 'X': 0.5645067691802979, 'Y': 0.7632427215576172},\n",
       "    {'Type': 'mouthDown', 'X': 0.5666999816894531, 'Y': 0.8141117691993713},\n",
       "    {'Type': 'leftPupil', 'X': 0.501064658164978, 'Y': 0.605868935585022},\n",
       "    {'Type': 'rightPupil', 'X': 0.624686062335968, 'Y': 0.599297285079956},\n",
       "    {'Type': 'upperJawlineLeft',\n",
       "     'X': 0.435300350189209,\n",
       "     'Y': 0.5923746824264526},\n",
       "    {'Type': 'midJawlineLeft',\n",
       "     'X': 0.4654126763343811,\n",
       "     'Y': 0.7821222543716431},\n",
       "    {'Type': 'chinBottom', 'X': 0.5716060400009155, 'Y': 0.8984979391098022},\n",
       "    {'Type': 'midJawlineRight',\n",
       "     'X': 0.6836552619934082,\n",
       "     'Y': 0.7702165246009827},\n",
       "    {'Type': 'upperJawlineRight',\n",
       "     'X': 0.7040519118309021,\n",
       "     'Y': 0.5774965882301331}],\n",
       "   'Pose': {'Roll': -2.737732172012329,\n",
       "    'Yaw': -2.6665048599243164,\n",
       "    'Pitch': 1.5381262302398682},\n",
       "   'Quality': {'Brightness': 29.7635440826416, 'Sharpness': 38.89601135253906},\n",
       "   'Confidence': 99.99946594238281}],\n",
       " 'ResponseMetadata': {'RequestId': '8425b953-d018-44b8-8861-71fc43aa3c90',\n",
       "  'HTTPStatusCode': 200,\n",
       "  'HTTPHeaders': {'content-type': 'application/x-amz-json-1.1',\n",
       "   'date': 'Sun, 04 Apr 2021 06:31:17 GMT',\n",
       "   'x-amzn-requestid': '8425b953-d018-44b8-8861-71fc43aa3c90',\n",
       "   'content-length': '3330',\n",
       "   'connection': 'keep-alive'},\n",
       "  'RetryAttempts': 0}}"
      ]
     },
     "execution_count": 41,
     "metadata": {},
     "output_type": "execute_result"
    }
   ],
   "source": [
    "resfaces"
   ]
  },
  {
   "cell_type": "code",
   "execution_count": null,
   "metadata": {},
   "outputs": [],
   "source": []
  }
 ],
 "metadata": {
  "kernelspec": {
   "display_name": "Python 3",
   "language": "python",
   "name": "python3"
  },
  "language_info": {
   "codemirror_mode": {
    "name": "ipython",
    "version": 3
   },
   "file_extension": ".py",
   "mimetype": "text/x-python",
   "name": "python",
   "nbconvert_exporter": "python",
   "pygments_lexer": "ipython3",
   "version": "3.7.6"
  }
 },
 "nbformat": 4,
 "nbformat_minor": 4
}
